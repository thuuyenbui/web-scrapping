{
 "cells": [
  {
   "cell_type": "code",
   "execution_count": 1,
   "metadata": {},
   "outputs": [
    {
     "name": "stdout",
     "output_type": "stream",
     "text": [
      "Requirement already satisfied: selenium in c:\\users\\ha.lehoang\\miniconda3\\envs\\data\\lib\\site-packages (4.7.2)\n",
      "Requirement already satisfied: certifi>=2021.10.8 in c:\\users\\ha.lehoang\\miniconda3\\envs\\data\\lib\\site-packages (from selenium) (2022.12.7)\n",
      "Requirement already satisfied: trio~=0.17 in c:\\users\\ha.lehoang\\miniconda3\\envs\\data\\lib\\site-packages (from selenium) (0.22.0)\n",
      "Requirement already satisfied: trio-websocket~=0.9 in c:\\users\\ha.lehoang\\miniconda3\\envs\\data\\lib\\site-packages (from selenium) (0.9.2)\n",
      "Requirement already satisfied: urllib3[socks]~=1.26 in c:\\users\\ha.lehoang\\miniconda3\\envs\\data\\lib\\site-packages (from selenium) (1.26.13)\n",
      "Requirement already satisfied: async-generator>=1.9 in c:\\users\\ha.lehoang\\miniconda3\\envs\\data\\lib\\site-packages (from trio~=0.17->selenium) (1.10)\n",
      "Requirement already satisfied: idna in c:\\users\\ha.lehoang\\miniconda3\\envs\\data\\lib\\site-packages (from trio~=0.17->selenium) (3.4)\n",
      "Requirement already satisfied: attrs>=19.2.0 in c:\\users\\ha.lehoang\\miniconda3\\envs\\data\\lib\\site-packages (from trio~=0.17->selenium) (22.2.0)\n",
      "Requirement already satisfied: sortedcontainers in c:\\users\\ha.lehoang\\miniconda3\\envs\\data\\lib\\site-packages (from trio~=0.17->selenium) (2.4.0)\n",
      "Requirement already satisfied: sniffio in c:\\users\\ha.lehoang\\miniconda3\\envs\\data\\lib\\site-packages (from trio~=0.17->selenium) (1.3.0)\n",
      "Requirement already satisfied: cffi>=1.14 in c:\\users\\ha.lehoang\\miniconda3\\envs\\data\\lib\\site-packages (from trio~=0.17->selenium) (1.15.1)\n",
      "Requirement already satisfied: outcome in c:\\users\\ha.lehoang\\miniconda3\\envs\\data\\lib\\site-packages (from trio~=0.17->selenium) (1.2.0)\n",
      "Requirement already satisfied: exceptiongroup>=1.0.0rc9 in c:\\users\\ha.lehoang\\miniconda3\\envs\\data\\lib\\site-packages (from trio~=0.17->selenium) (1.0.4)\n",
      "Requirement already satisfied: wsproto>=0.14 in c:\\users\\ha.lehoang\\miniconda3\\envs\\data\\lib\\site-packages (from trio-websocket~=0.9->selenium) (1.2.0)\n",
      "Requirement already satisfied: PySocks!=1.5.7,<2.0,>=1.5.6 in c:\\users\\ha.lehoang\\miniconda3\\envs\\data\\lib\\site-packages (from urllib3[socks]~=1.26->selenium) (1.7.1)\n",
      "Requirement already satisfied: pycparser in c:\\users\\ha.lehoang\\miniconda3\\envs\\data\\lib\\site-packages (from cffi>=1.14->trio~=0.17->selenium) (2.21)\n",
      "Requirement already satisfied: h11<1,>=0.9.0 in c:\\users\\ha.lehoang\\miniconda3\\envs\\data\\lib\\site-packages (from wsproto>=0.14->trio-websocket~=0.9->selenium) (0.14.0)\n"
     ]
    },
    {
     "name": "stderr",
     "output_type": "stream",
     "text": [
      "'apt-get' is not recognized as an internal or external command,\n",
      "operable program or batch file.\n",
      "'apt' is not recognized as an internal or external command,\n",
      "operable program or batch file.\n"
     ]
    }
   ],
   "source": [
    "# install selenium and other resources for crawling data\n",
    "!pip install selenium\n",
    "!apt-get update\n",
    "!apt install chromium-chromedriver"
   ]
  },
  {
   "cell_type": "code",
   "execution_count": 3,
   "metadata": {},
   "outputs": [],
   "source": [
    "### IMPORTS ###\n",
    "import re\n",
    "import time\n",
    "import pandas as pd\n",
    "\n",
    "from selenium import webdriver\n",
    "from selenium.webdriver.common.by import By \n",
    "from selenium.common.exceptions import NoSuchElementException"
   ]
  },
  {
   "cell_type": "code",
   "execution_count": 4,
   "metadata": {},
   "outputs": [],
   "source": [
    "###############\n",
    "### GLOBALS ###\n",
    "###############\n",
    "\n",
    "# Header for chromedriver\n",
    "HEADER = {'User-Agent': 'Mozilla/5.0 (Macintosh; Intel Mac OS X 10_14_5) AppleWebKit/537.36 (KHTML, like Gecko) Chrome/91.0.4472.164 Safari/537.36'}\n",
    "# Urls\n",
    "TIKI                = 'https://tiki.vn'\n",
    "MAIN_CATEGORIES = [\n",
    "    {'Name': 'Điện Thoại - Máy Tính Bảng',\n",
    "     'URL': 'https://tiki.vn/dien-thoai-may-tinh-bang/c1789?src=c.1789.hamburger_menu_fly_out_banner'},\n",
    "\n",
    "    {'Name': 'Điện Tử - Điện Lạnh',\n",
    "     'URL': 'https://tiki.vn/tivi-thiet-bi-nghe-nhin/c4221?src=c.4221.hamburger_menu_fly_out_banner'},\n",
    "\n",
    "    {'Name': 'Phụ Kiện - Thiết Bị Số', \n",
    "     'URL': 'https://tiki.vn/thiet-bi-kts-phu-kien-so/c1815?src=c.1815.hamburger_menu_fly_out_banner'},\n",
    "\n",
    "    {'Name': 'Laptop - Thiết bị IT', \n",
    "     'URL': 'https://tiki.vn/laptop-may-vi-tinh/c1846?src=c.1846.hamburger_menu_fly_out_banner'},\n",
    "\n",
    "    {'Name': 'Máy Ảnh - Quay Phim', \n",
    "     'URL': 'https://tiki.vn/may-anh/c1801?src=c.1801.hamburger_menu_fly_out_banner'},\n",
    "\n",
    "    {'Name': 'Điện Gia Dụng', \n",
    "     'URL': 'https://tiki.vn/dien-gia-dung/c1882?src=c.1882.hamburger_menu_fly_out_banner'},\n",
    "\n",
    "    {'Name': 'Nhà Cửa Đời Sống', \n",
    "     'URL': 'https://tiki.vn/nha-cua-doi-song/c1883?src=c.1883.hamburger_menu_fly_out_banner'},\n",
    "\n",
    "    {'Name': 'Hàng Tiêu Dùng - Thực Phẩm', \n",
    "     'URL': 'https://tiki.vn/bach-hoa-online/c4384?src=c.4384.hamburger_menu_fly_out_banner'},\n",
    "\n",
    "    {'Name': 'Đồ chơi, Mẹ & Bé', \n",
    "     'URL': 'https://tiki.vn/me-va-be/c2549?src=c.2549.hamburger_menu_fly_out_banner'},\n",
    "\n",
    "    {'Name': 'Làm Đẹp - Sức Khỏe', \n",
    "     'URL': 'https://tiki.vn/lam-dep-suc-khoe/c1520?src=c.1520.hamburger_menu_fly_out_banner'},\n",
    "\n",
    "    {'Name': 'Thể Thao - Dã Ngoại', \n",
    "     'URL': 'https://tiki.vn/the-thao/c1975?src=c.1975.hamburger_menu_fly_out_banner'},\n",
    "\n",
    "    {'Name': 'Xe Máy, Ô tô, Xe Đạp', \n",
    "     'URL': 'https://tiki.vn/o-to-xe-may-xe-dap/c8594?src=c.8594.hamburger_menu_fly_out_banner'},\n",
    "\n",
    "    {'Name': 'Hàng quốc tế', \n",
    "     'URL': 'https://tiki.vn/hang-quoc-te/c17166?src=c.17166.hamburger_menu_fly_out_banner'},\n",
    "\n",
    "    {'Name': 'Sách, VPP & Quà Tặng', \n",
    "     'URL': 'https://tiki.vn/nha-sach-tiki/c8322?src=c.8322.hamburger_menu_fly_out_banner'},\n",
    "\n",
    "    {'Name': 'Voucher - Dịch Vụ - Thẻ Cào', \n",
    "     'URL': 'https://tiki.vn/voucher-dich-vu/c11312?src=c.11312.hamburger_menu_fly_out_banner'}\n",
    "]\n",
    "\n",
    "# Global driver to use throughout the script\n",
    "DRIVER = None"
   ]
  },
  {
   "cell_type": "code",
   "execution_count": 5,
   "metadata": {},
   "outputs": [],
   "source": [
    "# Function to (re)start driver\n",
    "def start_driver(force_restart=False):\n",
    "    global DRIVER\n",
    "    \n",
    "    if DRIVER is not None:\n",
    "        if force_restart:\n",
    "            DRIVER.close()\n",
    "        else:\n",
    "            raise RuntimeError('ERROR: cannot overwrite an active driver. Please close the driver before restarting.')\n",
    "    \n",
    "    # Setting up the driver\n",
    "    options = webdriver.ChromeOptions()\n",
    "    options.add_argument('-headless') # we don't want a chrome browser opens, so it will run in the background\n",
    "    options.add_argument('-no-sandbox')\n",
    "    options.add_argument('-disable-dev-shm-usage')\n",
    "\n",
    "    DRIVER = webdriver.Chrome('chromedriver',options=options)\n",
    "\n",
    "# Wrapper to close driver if its created\n",
    "def close_driver():\n",
    "    global DRIVER\n",
    "    if DRIVER is not None:\n",
    "        DRIVER.close()\n",
    "    DRIVER = None"
   ]
  },
  {
   "cell_type": "code",
   "execution_count": 17,
   "metadata": {},
   "outputs": [],
   "source": [
    "close_driver()\n",
    "start_driver(force_restart=False)\n",
    "DRIVER.get('https://tiki.vn/voucher-dich-vu/c11312?src=c.11312.hamburger_menu_fly_out_banner')\n",
    "body = DRIVER.find_element(By.TAG_NAME, 'body')\n",
    "a = body.get_attribute('outerHTML')"
   ]
  },
  {
   "cell_type": "code",
   "execution_count": 28,
   "metadata": {},
   "outputs": [
    {
     "ename": "NoSuchElementException",
     "evalue": "Message: no such element: Unable to locate element: {\"method\":\"tag name\",\"selector\":\"span\"}\n  (Session info: headless chrome=108.0.5359.125)\nStacktrace:\nBacktrace:\n\t(No symbol) [0x0030F243]\n\t(No symbol) [0x00297FD1]\n\t(No symbol) [0x0018D04D]\n\t(No symbol) [0x001BC0B0]\n\t(No symbol) [0x001BC22B]\n\t(No symbol) [0x001B2CA1]\n\t(No symbol) [0x001D85D4]\n\t(No symbol) [0x001B2BFF]\n\t(No symbol) [0x001D8804]\n\t(No symbol) [0x001EC9EB]\n\t(No symbol) [0x001D8386]\n\t(No symbol) [0x001B163C]\n\t(No symbol) [0x001B269D]\n\tGetHandleVerifier [0x005A9A22+2655074]\n\tGetHandleVerifier [0x0059CA24+2601828]\n\tGetHandleVerifier [0x003B8C0A+619850]\n\tGetHandleVerifier [0x003B7830+614768]\n\t(No symbol) [0x002A05FC]\n\t(No symbol) [0x002A5968]\n\t(No symbol) [0x002A5A55]\n\t(No symbol) [0x002B051B]\n\tBaseThreadInitThunk [0x755600F9+25]\n\tRtlGetAppContainerNamedObjectPath [0x77357BBE+286]\n\tRtlGetAppContainerNamedObjectPath [0x77357B8E+238]\n",
     "output_type": "error",
     "traceback": [
      "\u001b[1;31m---------------------------------------------------------------------------\u001b[0m",
      "\u001b[1;31mNoSuchElementException\u001b[0m                    Traceback (most recent call last)",
      "Cell \u001b[1;32mIn[28], line 2\u001b[0m\n\u001b[0;32m      1\u001b[0m name_class \u001b[39m=\u001b[39m DRIVER\u001b[39m.\u001b[39mfind_elements(By\u001b[39m.\u001b[39mCLASS_NAME,\u001b[39m'\u001b[39m\u001b[39mname\u001b[39m\u001b[39m'\u001b[39m)[\u001b[39m3\u001b[39m]\n\u001b[1;32m----> 2\u001b[0m name_elem\u001b[39m=\u001b[39m name_class\u001b[39m.\u001b[39;49mfind_element(By\u001b[39m.\u001b[39;49mTAG_NAME,\u001b[39m'\u001b[39;49m\u001b[39mspan\u001b[39;49m\u001b[39m'\u001b[39;49m)\n\u001b[0;32m      3\u001b[0m d[\u001b[39m'\u001b[39m\u001b[39mname\u001b[39m\u001b[39m'\u001b[39m] \u001b[39m=\u001b[39m name_elem\u001b[39m.\u001b[39mget_attribute(\u001b[39m'\u001b[39m\u001b[39minnerHTML\u001b[39m\u001b[39m'\u001b[39m)\u001b[39m.\u001b[39mstrip()\n\u001b[0;32m      4\u001b[0m d[\u001b[39m'\u001b[39m\u001b[39mname\u001b[39m\u001b[39m'\u001b[39m]\u001b[39m.\u001b[39mhead()\n",
      "File \u001b[1;32mc:\\Users\\ha.lehoang\\miniconda3\\envs\\Data\\lib\\site-packages\\selenium\\webdriver\\remote\\webelement.py:433\u001b[0m, in \u001b[0;36mWebElement.find_element\u001b[1;34m(self, by, value)\u001b[0m\n\u001b[0;32m    430\u001b[0m     by \u001b[39m=\u001b[39m By\u001b[39m.\u001b[39mCSS_SELECTOR\n\u001b[0;32m    431\u001b[0m     value \u001b[39m=\u001b[39m \u001b[39m'\u001b[39m\u001b[39m[name=\u001b[39m\u001b[39m\"\u001b[39m\u001b[39m%s\u001b[39;00m\u001b[39m\"\u001b[39m\u001b[39m]\u001b[39m\u001b[39m'\u001b[39m \u001b[39m%\u001b[39m value\n\u001b[1;32m--> 433\u001b[0m \u001b[39mreturn\u001b[39;00m \u001b[39mself\u001b[39;49m\u001b[39m.\u001b[39;49m_execute(Command\u001b[39m.\u001b[39;49mFIND_CHILD_ELEMENT, {\u001b[39m\"\u001b[39;49m\u001b[39musing\u001b[39;49m\u001b[39m\"\u001b[39;49m: by, \u001b[39m\"\u001b[39;49m\u001b[39mvalue\u001b[39;49m\u001b[39m\"\u001b[39;49m: value})[\u001b[39m\"\u001b[39m\u001b[39mvalue\u001b[39m\u001b[39m\"\u001b[39m]\n",
      "File \u001b[1;32mc:\\Users\\ha.lehoang\\miniconda3\\envs\\Data\\lib\\site-packages\\selenium\\webdriver\\remote\\webelement.py:410\u001b[0m, in \u001b[0;36mWebElement._execute\u001b[1;34m(self, command, params)\u001b[0m\n\u001b[0;32m    408\u001b[0m     params \u001b[39m=\u001b[39m {}\n\u001b[0;32m    409\u001b[0m params[\u001b[39m\"\u001b[39m\u001b[39mid\u001b[39m\u001b[39m\"\u001b[39m] \u001b[39m=\u001b[39m \u001b[39mself\u001b[39m\u001b[39m.\u001b[39m_id\n\u001b[1;32m--> 410\u001b[0m \u001b[39mreturn\u001b[39;00m \u001b[39mself\u001b[39;49m\u001b[39m.\u001b[39;49m_parent\u001b[39m.\u001b[39;49mexecute(command, params)\n",
      "File \u001b[1;32mc:\\Users\\ha.lehoang\\miniconda3\\envs\\Data\\lib\\site-packages\\selenium\\webdriver\\remote\\webdriver.py:444\u001b[0m, in \u001b[0;36mWebDriver.execute\u001b[1;34m(self, driver_command, params)\u001b[0m\n\u001b[0;32m    442\u001b[0m response \u001b[39m=\u001b[39m \u001b[39mself\u001b[39m\u001b[39m.\u001b[39mcommand_executor\u001b[39m.\u001b[39mexecute(driver_command, params)\n\u001b[0;32m    443\u001b[0m \u001b[39mif\u001b[39;00m response:\n\u001b[1;32m--> 444\u001b[0m     \u001b[39mself\u001b[39;49m\u001b[39m.\u001b[39;49merror_handler\u001b[39m.\u001b[39;49mcheck_response(response)\n\u001b[0;32m    445\u001b[0m     response[\u001b[39m\"\u001b[39m\u001b[39mvalue\u001b[39m\u001b[39m\"\u001b[39m] \u001b[39m=\u001b[39m \u001b[39mself\u001b[39m\u001b[39m.\u001b[39m_unwrap_value(response\u001b[39m.\u001b[39mget(\u001b[39m\"\u001b[39m\u001b[39mvalue\u001b[39m\u001b[39m\"\u001b[39m, \u001b[39mNone\u001b[39;00m))\n\u001b[0;32m    446\u001b[0m     \u001b[39mreturn\u001b[39;00m response\n",
      "File \u001b[1;32mc:\\Users\\ha.lehoang\\miniconda3\\envs\\Data\\lib\\site-packages\\selenium\\webdriver\\remote\\errorhandler.py:249\u001b[0m, in \u001b[0;36mErrorHandler.check_response\u001b[1;34m(self, response)\u001b[0m\n\u001b[0;32m    247\u001b[0m         alert_text \u001b[39m=\u001b[39m value[\u001b[39m\"\u001b[39m\u001b[39malert\u001b[39m\u001b[39m\"\u001b[39m]\u001b[39m.\u001b[39mget(\u001b[39m\"\u001b[39m\u001b[39mtext\u001b[39m\u001b[39m\"\u001b[39m)\n\u001b[0;32m    248\u001b[0m     \u001b[39mraise\u001b[39;00m exception_class(message, screen, stacktrace, alert_text)  \u001b[39m# type: ignore[call-arg]  # mypy is not smart enough here\u001b[39;00m\n\u001b[1;32m--> 249\u001b[0m \u001b[39mraise\u001b[39;00m exception_class(message, screen, stacktrace)\n",
      "\u001b[1;31mNoSuchElementException\u001b[0m: Message: no such element: Unable to locate element: {\"method\":\"tag name\",\"selector\":\"span\"}\n  (Session info: headless chrome=108.0.5359.125)\nStacktrace:\nBacktrace:\n\t(No symbol) [0x0030F243]\n\t(No symbol) [0x00297FD1]\n\t(No symbol) [0x0018D04D]\n\t(No symbol) [0x001BC0B0]\n\t(No symbol) [0x001BC22B]\n\t(No symbol) [0x001B2CA1]\n\t(No symbol) [0x001D85D4]\n\t(No symbol) [0x001B2BFF]\n\t(No symbol) [0x001D8804]\n\t(No symbol) [0x001EC9EB]\n\t(No symbol) [0x001D8386]\n\t(No symbol) [0x001B163C]\n\t(No symbol) [0x001B269D]\n\tGetHandleVerifier [0x005A9A22+2655074]\n\tGetHandleVerifier [0x0059CA24+2601828]\n\tGetHandleVerifier [0x003B8C0A+619850]\n\tGetHandleVerifier [0x003B7830+614768]\n\t(No symbol) [0x002A05FC]\n\t(No symbol) [0x002A5968]\n\t(No symbol) [0x002A5A55]\n\t(No symbol) [0x002B051B]\n\tBaseThreadInitThunk [0x755600F9+25]\n\tRtlGetAppContainerNamedObjectPath [0x77357BBE+286]\n\tRtlGetAppContainerNamedObjectPath [0x77357B8E+238]\n"
     ]
    }
   ],
   "source": [
    "name_class = DRIVER.find_elements(By.CLASS_NAME,'name')[3]\n",
    "name_elem= name_class.find_element(By.TAG_NAME,'span')\n",
    "d['name'] = name_elem.get_attribute('innerHTML').strip()\n",
    "d['name'].head()"
   ]
  }
 ],
 "metadata": {
  "kernelspec": {
   "display_name": "Data",
   "language": "python",
   "name": "python3"
  },
  "language_info": {
   "codemirror_mode": {
    "name": "ipython",
    "version": 3
   },
   "file_extension": ".py",
   "mimetype": "text/x-python",
   "name": "python",
   "nbconvert_exporter": "python",
   "pygments_lexer": "ipython3",
   "version": "3.9.15"
  },
  "orig_nbformat": 4,
  "vscode": {
   "interpreter": {
    "hash": "0ea17615d8bd919d840c427db0b1d8c321a0d91b47089fb8f5618e2c76ebdaec"
   }
  }
 },
 "nbformat": 4,
 "nbformat_minor": 2
}
